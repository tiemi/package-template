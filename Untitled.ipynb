{
 "cells": [
  {
   "cell_type": "code",
   "execution_count": 3,
   "id": "b1bff931",
   "metadata": {},
   "outputs": [],
   "source": [
    "from image_processing.utils import io, plot\n",
    "from image_processing.processing import combination, transformation"
   ]
  },
  {
   "cell_type": "code",
   "execution_count": null,
   "id": "3e8834a4",
   "metadata": {},
   "outputs": [],
   "source": [
    "io.read_image('/home/uiliam/Downloads/green-forest')"
   ]
  }
 ],
 "metadata": {
  "kernelspec": {
   "display_name": "Python 3 (ipykernel)",
   "language": "python",
   "name": "python3"
  },
  "language_info": {
   "codemirror_mode": {
    "name": "ipython",
    "version": 3
   },
   "file_extension": ".py",
   "mimetype": "text/x-python",
   "name": "python",
   "nbconvert_exporter": "python",
   "pygments_lexer": "ipython3",
   "version": "3.9.7"
  }
 },
 "nbformat": 4,
 "nbformat_minor": 5
}
